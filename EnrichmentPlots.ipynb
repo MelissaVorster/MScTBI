{
 "cells": [
  {
   "cell_type": "code",
   "id": "1d6f527ebb4879d4",
   "metadata": {
    "ExecuteTime": {
     "end_time": "2024-11-09T14:59:25.724891Z",
     "start_time": "2024-11-09T14:59:25.641313Z"
    }
   },
   "source": [
    "'''Enrichment seperately analysis'''\n",
    "from gprofiler import GProfiler\n",
    "import matplotlib.pyplot as plt\n",
    "import pandas as pd\n",
    "import seaborn as sns\n",
    "import numpy as np"
   ],
   "outputs": [],
   "execution_count": 2
  },
  {
   "metadata": {
    "collapsed": true,
    "ExecuteTime": {
     "end_time": "2024-11-09T16:36:59.948377Z",
     "start_time": "2024-11-09T16:36:59.291480Z"
    }
   },
   "cell_type": "code",
   "source": [
    "\n",
    "# Initialize g:Profiler\n",
    "gp = GProfiler(return_dataframe=True)\n",
    "\n",
    "# Define some analysis parameters\n",
    "significance_threshold = 0.01  # Significance threshold for filtering significant proteins\n",
    "fold_change_threshold = 1      # Fold-change threshold for upregulated/downregulated proteins\n",
    "organism = 'mmusculus'          # Organism for enrichment analysis\n",
    "top_n = 10                    # Number of top enriched terms to plot\n",
    "\n",
    "\n",
    "# Path to the uploaded Excel file\n",
    "file_path = '/media/melissa/EXTERNAL_USB/KusterLab_Melissa_Vorster/NetAppSaver/R_InputHandled_VolcanoPlots.xlsx'\n",
    "\n",
    "# Load the entire Excel file (all sheets)\n",
    "excel_data = pd.read_excel(file_path, sheet_name=None)\n",
    "\n",
    "# Iterate over each sheet in the Excel file\n",
    "for sheet_name, results_df_filtered in excel_data.items():\n",
    "    # Extract group names from the sheet name (assuming sheet names are formatted as group1_vs_group2)\n",
    "    group1, group2 = sheet_name.split('_vs_')\n",
    "\n",
    "    # # Filter for upregulated proteins\n",
    "    # upregulated_proteins_df = results_df_filtered[\n",
    "    #     (results_df_filtered['p_adj'] < significance_threshold) &\n",
    "    #     (results_df_filtered['log2_fold_change'] > fold_change_threshold)\n",
    "    # ]\n",
    "    # \n",
    "    # # Filter for downregulated proteins\n",
    "    # downregulated_proteins_df = results_df_filtered[\n",
    "    #     (results_df_filtered['p_adj'] < significance_threshold) &\n",
    "    #     (results_df_filtered['log2_fold_change'] < -fold_change_threshold)\n",
    "    # ]\n",
    "    # \n",
    "        # Filter for upregulated proteins\n",
    "    upregulated_proteins_df = results_df_filtered[\n",
    "        (results_df_filtered['p_adj'] < significance_threshold) \n",
    "    ]\n",
    "\n",
    "    # Filter for downregulated proteins\n",
    "    downregulated_proteins_df = results_df_filtered[\n",
    "        (results_df_filtered['p_adj'] < significance_threshold) \n",
    "    ]\n",
    "\n",
    "    # Enrichment analysis for upregulated proteins\n",
    "    if not upregulated_proteins_df.empty:\n",
    "        enriched_terms_upregulated = gp.profile(organism=organism, sources='KEGG', query=upregulated_proteins_df['Protein'].tolist())\n",
    "\n",
    "        if not enriched_terms_upregulated.empty:\n",
    "            output_file_up = f'/media/melissa/EXTERNAL_USB/KusterLab_Melissa_Vorster/NetAppSaver/enrichment_analysis_results_{group1}_vs_{group2}_u.xlsx'\n",
    "            with pd.ExcelWriter(output_file_up, engine='xlsxwriter') as writer:\n",
    "                upregulated_proteins_df.to_excel(writer, sheet_name=f'{group1}_{group2}_u_s', index=False)\n",
    "                enriched_terms_upregulated.to_excel(writer, sheet_name=f'{group1}_{group2}_u_e', index=False)\n",
    "\n",
    "            top_enriched_upregulated = enriched_terms_upregulated.head(top_n)\n",
    "            plt.figure(figsize=(20, 15))\n",
    "            sorted_terms_upregulated = top_enriched_upregulated.sort_values(by='p_value', ascending=True)\n",
    "            sorted_terms_upregulated['-log10(p_value)'] = -np.log10(sorted_terms_upregulated['p_value'])\n",
    "            sns.barplot(x='-log10(p_value)', y='name', data=sorted_terms_upregulated, palette='viridis')\n",
    "            plt.xlabel('-log10(p-value)', fontsize=14)\n",
    "            plt.ylabel('Enriched Terms', fontsize=14)\n",
    "            plt.title(f'Top {top_n} Enriched Terms (Upregulated) for {group1} vs {group2}', fontsize=15)\n",
    "            plt.tight_layout()\n",
    "            plot_filename_up = f'/media/melissa/EXTERNAL_USB/KusterLab_Melissa_Vorster/NetAppSaver/enriched_terms_{group1}_vs_{group2}_u.png'\n",
    "            plt.savefig(plot_filename_up, dpi=300)\n",
    "            plt.show()\n",
    "            print(f\"Enrichment analysis for upregulated proteins complete for {group1} vs {group2}. Plot saved as {plot_filename_up}\")\n",
    "\n",
    "    # Enrichment analysis for downregulated proteins\n",
    "    if not downregulated_proteins_df.empty:\n",
    "        enriched_terms_downregulated = gp.profile(organism=organism, query=downregulated_proteins_df['Protein'].tolist())\n",
    "\n",
    "        if not enriched_terms_downregulated.empty:\n",
    "            output_file_down = f'/media/melissa/EXTERNAL_USB/KusterLab_Melissa_Vorster/NetAppSaver/enrichment_analysis_results_{group1}_vs_{group2}_d.xlsx'\n",
    "            with pd.ExcelWriter(output_file_down, engine='xlsxwriter') as writer:\n",
    "                downregulated_proteins_df.to_excel(writer, sheet_name=f'{group1}_{group2}_d_s', index=False)\n",
    "                enriched_terms_downregulated.to_excel(writer, sheet_name=f'{group1}_{group2}_d_e', index=False)\n",
    "\n",
    "            top_enriched_downregulated = enriched_terms_downregulated.head(top_n)\n",
    "            plt.figure(figsize=(20, 15))\n",
    "            sorted_terms_downregulated = top_enriched_downregulated.sort_values(by='p_value', ascending=True)\n",
    "            sorted_terms_downregulated['-log10(p_value)'] = -np.log10(sorted_terms_downregulated['p_value'])\n",
    "            sns.barplot(x='-log10(p_value)', y='name', data=sorted_terms_downregulated, palette='viridis')\n",
    "            plt.xlabel('-log10(p-value)', fontsize=14)\n",
    "            plt.ylabel('Enriched Terms', fontsize=14)\n",
    "            plt.title(f'Top {top_n} Enriched Terms (Downregulated) for {group1} vs {group2}', fontsize=15)\n",
    "            plt.tight_layout()\n",
    "            plot_filename_down = f'/media/melissa/EXTERNAL_USB/KusterLab_Melissa_Vorster/NetAppSaver/enriched_terms_{group1}_vs_{group2}_d.png'\n",
    "            plt.savefig(plot_filename_down, dpi=300)\n",
    "            plt.show()\n",
    "            print(f\"Enrichment analysis for downregulated proteins complete for {group1} vs {group2}. Plot saved as {plot_filename_down}\")"
   ],
   "id": "initial_id",
   "outputs": [
    {
     "ename": "TypeError",
     "evalue": "GProfiler.profile() got an unexpected keyword argument 'source'",
     "output_type": "error",
     "traceback": [
      "\u001B[0;31m---------------------------------------------------------------------------\u001B[0m",
      "\u001B[0;31mTypeError\u001B[0m                                 Traceback (most recent call last)",
      "Cell \u001B[0;32mIn[5], line 46\u001B[0m\n\u001B[1;32m     44\u001B[0m \u001B[38;5;66;03m# Enrichment analysis for upregulated proteins\u001B[39;00m\n\u001B[1;32m     45\u001B[0m \u001B[38;5;28;01mif\u001B[39;00m \u001B[38;5;129;01mnot\u001B[39;00m upregulated_proteins_df\u001B[38;5;241m.\u001B[39mempty:\n\u001B[0;32m---> 46\u001B[0m     enriched_terms_upregulated \u001B[38;5;241m=\u001B[39m \u001B[43mgp\u001B[49m\u001B[38;5;241;43m.\u001B[39;49m\u001B[43mprofile\u001B[49m\u001B[43m(\u001B[49m\u001B[43morganism\u001B[49m\u001B[38;5;241;43m=\u001B[39;49m\u001B[43morganism\u001B[49m\u001B[43m,\u001B[49m\u001B[43m \u001B[49m\u001B[43msource\u001B[49m\u001B[38;5;241;43m=\u001B[39;49m\u001B[38;5;124;43m'\u001B[39;49m\u001B[38;5;124;43mKEGG\u001B[39;49m\u001B[38;5;124;43m'\u001B[39;49m\u001B[43m,\u001B[49m\u001B[43m \u001B[49m\u001B[43mquery\u001B[49m\u001B[38;5;241;43m=\u001B[39;49m\u001B[43mupregulated_proteins_df\u001B[49m\u001B[43m[\u001B[49m\u001B[38;5;124;43m'\u001B[39;49m\u001B[38;5;124;43mProtein\u001B[39;49m\u001B[38;5;124;43m'\u001B[39;49m\u001B[43m]\u001B[49m\u001B[38;5;241;43m.\u001B[39;49m\u001B[43mtolist\u001B[49m\u001B[43m(\u001B[49m\u001B[43m)\u001B[49m\u001B[43m)\u001B[49m\n\u001B[1;32m     48\u001B[0m     \u001B[38;5;28;01mif\u001B[39;00m \u001B[38;5;129;01mnot\u001B[39;00m enriched_terms_upregulated\u001B[38;5;241m.\u001B[39mempty:\n\u001B[1;32m     49\u001B[0m         output_file_up \u001B[38;5;241m=\u001B[39m \u001B[38;5;124mf\u001B[39m\u001B[38;5;124m'\u001B[39m\u001B[38;5;124m/media/melissa/EXTERNAL_USB/KusterLab_Melissa_Vorster/NetAppSaver/enrichment_analysis_results_\u001B[39m\u001B[38;5;132;01m{\u001B[39;00mgroup1\u001B[38;5;132;01m}\u001B[39;00m\u001B[38;5;124m_vs_\u001B[39m\u001B[38;5;132;01m{\u001B[39;00mgroup2\u001B[38;5;132;01m}\u001B[39;00m\u001B[38;5;124m_u.xlsx\u001B[39m\u001B[38;5;124m'\u001B[39m\n",
      "\u001B[0;31mTypeError\u001B[0m: GProfiler.profile() got an unexpected keyword argument 'source'"
     ]
    }
   ],
   "execution_count": 5
  },
  {
   "metadata": {
    "ExecuteTime": {
     "end_time": "2024-11-05T10:55:16.016515Z",
     "start_time": "2024-11-05T10:55:15.767105Z"
    }
   },
   "cell_type": "code",
   "source": [
    "import pandas as pd\n",
    "import os\n",
    "\n",
    "# Specify the directory where the Excel files are stored\n",
    "folder_path = '/media/melissa/EXTERNAL_USB/KusterLab_Melissa_Vorster/NetAppSaver/EnrichOut/only_enrich'\n",
    "\n",
    "# Specify the output file path\n",
    "output_file = '/media/melissa/EXTERNAL_USB/KusterLab_Melissa_Vorster/NetAppSaver/EnrichOut/comb_enrich_out.xlsx'\n",
    "\n",
    "# # Create a writer to combine sheets into one workbook\n",
    "# with pd.ExcelWriter(output_file) as writer:\n",
    "#     # Loop through each file in the specified directory\n",
    "#     for filename in os.listdir(folder_path):\n",
    "#         if filename.endswith('.xlsx') or filename.endswith('.xls'):\n",
    "#             file_path = os.path.join(folder_path, filename)\n",
    "#             # Read the Excel file into a DataFrame\n",
    "#             df = pd.read_excel(file_path)\n",
    "#             # Add the DataFrame to a new sheet in the output file\n",
    "#             sheet_name = os.path.splitext(filename)[0]  # Use filename (without extension) as sheet name\n",
    "#             df.to_excel(writer, sheet_name=sheet_name, index=False)\n",
    "# \n",
    "# print(f'Combined Excel document saved as {output_file}')\n",
    "\n",
    "# Initialize the ExcelWriter\n",
    "with pd.ExcelWriter(output_file, engine='openpyxl') as writer:\n",
    "    # Loop through each file in the specified directory\n",
    "    for filename in os.listdir(folder_path):\n",
    "        # Check for Excel file extensions\n",
    "        if filename.endswith('.xlsx') or filename.endswith('.xls'):\n",
    "            file_path = os.path.join(folder_path, filename)\n",
    "            try:\n",
    "                # Read the Excel file into a DataFrame\n",
    "                df = pd.read_excel(file_path)\n",
    "                \n",
    "                # Get the base filename without extension for the sheet name\n",
    "                sheet_name = os.path.splitext(filename)[0]\n",
    "                \n",
    "                # Write the DataFrame to a new sheet in the output file\n",
    "                df.to_excel(writer, sheet_name=sheet_name[:31], index=False)  # Limit to 31 characters for Excel compatibility\n",
    "                \n",
    "                print(f\"Added {filename} as sheet '{sheet_name[:31]}'\")\n",
    "            except Exception as e:\n",
    "                print(f\"Failed to process {filename}: {e}\")\n",
    "\n",
    "print(f'Combined Excel document saved as {output_file}')\n"
   ],
   "id": "e3db3d7541884a6c",
   "outputs": [
    {
     "name": "stdout",
     "output_type": "stream",
     "text": [
      "Added enrich_2DG_vs_Con_d.xlsx as sheet 'enrich_2DG_vs_Con_d'\n",
      "Added enrich_2DG_vs_Con_u.xlsx as sheet 'enrich_2DG_vs_Con_u'\n",
      "Added enrich_2DG_vs_SDT_d.xlsx as sheet 'enrich_2DG_vs_SDT_d'\n",
      "Added enrich_2DG_vs_SDT_u.xlsx as sheet 'enrich_2DG_vs_SDT_u'\n",
      "Added enrich_SDT_vs_Con_d.xlsx as sheet 'enrich_SDT_vs_Con_d'\n",
      "Added enrich_SDT_vs_Con_u.xlsx as sheet 'enrich_SDT_vs_Con_u'\n",
      "Combined Excel document saved as /media/melissa/EXTERNAL_USB/KusterLab_Melissa_Vorster/NetAppSaver/EnrichOut/comb_enrich_out.xlsx\n"
     ]
    }
   ],
   "execution_count": 5
  }
 ],
 "metadata": {
  "kernelspec": {
   "display_name": "Python 3",
   "language": "python",
   "name": "python3"
  },
  "language_info": {
   "codemirror_mode": {
    "name": "ipython",
    "version": 2
   },
   "file_extension": ".py",
   "mimetype": "text/x-python",
   "name": "python",
   "nbconvert_exporter": "python",
   "pygments_lexer": "ipython2",
   "version": "2.7.6"
  }
 },
 "nbformat": 4,
 "nbformat_minor": 5
}
